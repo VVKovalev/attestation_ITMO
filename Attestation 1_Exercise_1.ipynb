{
  "nbformat": 4,
  "nbformat_minor": 0,
  "metadata": {
    "colab": {
      "name": "Аттестация 1. Задача 1",
      "provenance": []
    },
    "kernelspec": {
      "name": "python3",
      "display_name": "Python 3"
    },
    "language_info": {
      "name": "python"
    }
  },
  "cells": [
    {
      "cell_type": "code",
      "execution_count": null,
      "metadata": {
        "colab": {
          "base_uri": "https://localhost:8080/",
          "height": 265
        },
        "id": "48WbcFnAyAA6",
        "outputId": "d35ca9da-a765-4a39-b06c-efd7d455a615"
      },
      "outputs": [
        {
          "output_type": "display_data",
          "data": {
            "text/plain": [
              "<Figure size 432x288 with 1 Axes>"
            ],
            "image/png": "[encoded data removed]"
          },
          "metadata": {
            "needs_background": "light"
          }
        }
      ],
      "source": [
        "import pandas as pd\n",
        "import matplotlib.pyplot as plt\n",
        "\n",
        "data = pd.read_csv('/content/mumps.csv',\n",
        "                    delimiter = ';')\n",
        "data_Uruguay = data[(data.Cname == 'Uruguay')]\n",
        "data_Uruguay\n",
        "plt.bar(data_Uruguay['Year'],data_Uruguay['Number of cases']) \n",
        "plt.show()\n",
        "\n",
        "\n"
      ]
    }
  ]
}